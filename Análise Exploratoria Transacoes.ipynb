{
 "cells": [
  {
   "cell_type": "markdown",
   "id": "cf516d05",
   "metadata": {},
   "source": [
    "# Explicacão Teórica\n",
    "\n",
    "## Fluxo do dinheiro:\n",
    "### Dinheiro sai do banco emissor, é enviado à adquirente  e a adquirente faz a liquidação ao lojista. A adquirente retém o MDR e remunera o banco emissor, a bandeira e retém sua parte do MDR.\n",
    "\n",
    "## Fluxo da informação: \n",
    "### Gateway de pagamento faz a captura da transação e envia a solicitação a adquirente. Se a transação for aprovada, a adquirente envia a solicitação à bandeira do cartão de crédito e a bandeira aciona o banco do emissor do cartao.\n",
    "\n",
    "## Principais players:\n",
    "### Banco emissor -> quem emite o cartão de crédito\n",
    "### Adquirente: faz o processamento através das maquininhas POS \n",
    "### Bandeira: cuida da comunicação entre emissor, adquirente e o processador/gateway\n",
    "### Processador/gateway: processa a transação e envia a solicitação a adquirente.\n",
    "\n"
   ]
  },
  {
   "cell_type": "code",
   "execution_count": 1,
   "id": "7014b446",
   "metadata": {},
   "outputs": [],
   "source": [
    "import pandas as pd\n",
    "df = pd.read_csv(r\"C:\\Users\\usuario\\Desktop\\CloudWalkCase2\\bq-results.csv\")"
   ]
  },
  {
   "cell_type": "code",
   "execution_count": 2,
   "id": "9d264b34",
   "metadata": {},
   "outputs": [
    {
     "name": "stdout",
     "output_type": "stream",
     "text": [
      "<class 'pandas.core.frame.DataFrame'>\n",
      "RangeIndex: 9810816 entries, 0 to 9810815\n",
      "Data columns (total 7 columns):\n",
      " #   Column          Dtype \n",
      "---  ------          ----- \n",
      " 0   COUNT           int64 \n",
      " 1   created_at      object\n",
      " 2   status          object\n",
      " 3   capture_method  object\n",
      " 4   payment_method  object\n",
      " 5   card_brand      object\n",
      " 6   legal_name      object\n",
      "dtypes: int64(1), object(6)\n",
      "memory usage: 524.0+ MB\n"
     ]
    }
   ],
   "source": [
    "df.info()"
   ]
  },
  {
   "cell_type": "code",
   "execution_count": 3,
   "id": "1da7a400",
   "metadata": {
    "scrolled": true
   },
   "outputs": [
    {
     "data": {
      "text/html": [
       "<div>\n",
       "<style scoped>\n",
       "    .dataframe tbody tr th:only-of-type {\n",
       "        vertical-align: middle;\n",
       "    }\n",
       "\n",
       "    .dataframe tbody tr th {\n",
       "        vertical-align: top;\n",
       "    }\n",
       "\n",
       "    .dataframe thead th {\n",
       "        text-align: right;\n",
       "    }\n",
       "</style>\n",
       "<table border=\"1\" class=\"dataframe\">\n",
       "  <thead>\n",
       "    <tr style=\"text-align: right;\">\n",
       "      <th></th>\n",
       "      <th>COUNT</th>\n",
       "      <th>created_at</th>\n",
       "      <th>status</th>\n",
       "      <th>capture_method</th>\n",
       "      <th>payment_method</th>\n",
       "      <th>card_brand</th>\n",
       "      <th>legal_name</th>\n",
       "    </tr>\n",
       "  </thead>\n",
       "  <tbody>\n",
       "    <tr>\n",
       "      <th>0</th>\n",
       "      <td>6</td>\n",
       "      <td>23-06-30 20:04</td>\n",
       "      <td>approved</td>\n",
       "      <td>contactless</td>\n",
       "      <td>credit</td>\n",
       "      <td>visa</td>\n",
       "      <td>BANCO SANTANDER (BRASIL) S.A.</td>\n",
       "    </tr>\n",
       "    <tr>\n",
       "      <th>1</th>\n",
       "      <td>1</td>\n",
       "      <td>23-06-30 20:04</td>\n",
       "      <td>approved</td>\n",
       "      <td>contactless</td>\n",
       "      <td>credit</td>\n",
       "      <td>visa</td>\n",
       "      <td>MERCADOPAGOCOM REPRESENTACOES</td>\n",
       "    </tr>\n",
       "    <tr>\n",
       "      <th>2</th>\n",
       "      <td>3</td>\n",
       "      <td>23-06-30 20:04</td>\n",
       "      <td>approved</td>\n",
       "      <td>contactless</td>\n",
       "      <td>credit</td>\n",
       "      <td>mastercard</td>\n",
       "      <td>BANCO INTER S.A.</td>\n",
       "    </tr>\n",
       "    <tr>\n",
       "      <th>3</th>\n",
       "      <td>2</td>\n",
       "      <td>23-06-30 20:04</td>\n",
       "      <td>denied</td>\n",
       "      <td>emv</td>\n",
       "      <td>credit</td>\n",
       "      <td>mastercard</td>\n",
       "      <td>BANCO C6 SA</td>\n",
       "    </tr>\n",
       "    <tr>\n",
       "      <th>4</th>\n",
       "      <td>1</td>\n",
       "      <td>23-06-30 20:04</td>\n",
       "      <td>denied</td>\n",
       "      <td>contactless</td>\n",
       "      <td>debit</td>\n",
       "      <td>visa</td>\n",
       "      <td>Portoseg S.A. Credito Financiamento e Investim...</td>\n",
       "    </tr>\n",
       "    <tr>\n",
       "      <th>...</th>\n",
       "      <td>...</td>\n",
       "      <td>...</td>\n",
       "      <td>...</td>\n",
       "      <td>...</td>\n",
       "      <td>...</td>\n",
       "      <td>...</td>\n",
       "      <td>...</td>\n",
       "    </tr>\n",
       "    <tr>\n",
       "      <th>9810811</th>\n",
       "      <td>1</td>\n",
       "      <td>23-05-11 22:44</td>\n",
       "      <td>denied</td>\n",
       "      <td>emv</td>\n",
       "      <td>credit</td>\n",
       "      <td>mastercard</td>\n",
       "      <td>BANCO ITAUCARD S.A.</td>\n",
       "    </tr>\n",
       "    <tr>\n",
       "      <th>9810812</th>\n",
       "      <td>1</td>\n",
       "      <td>23-05-11 22:44</td>\n",
       "      <td>approved</td>\n",
       "      <td>mpos</td>\n",
       "      <td>credit</td>\n",
       "      <td>mastercard</td>\n",
       "      <td>FORTBRASIL ADMINISTRADORA DE CARTOES DE CREDITO</td>\n",
       "    </tr>\n",
       "    <tr>\n",
       "      <th>9810813</th>\n",
       "      <td>1</td>\n",
       "      <td>23-05-11 22:44</td>\n",
       "      <td>approved</td>\n",
       "      <td>contactless</td>\n",
       "      <td>credit</td>\n",
       "      <td>visa</td>\n",
       "      <td>LUIZACRED S.A. SOCIEDADE DE CREDITO, FINANCIAM...</td>\n",
       "    </tr>\n",
       "    <tr>\n",
       "      <th>9810814</th>\n",
       "      <td>1</td>\n",
       "      <td>23-05-11 22:44</td>\n",
       "      <td>approved</td>\n",
       "      <td>emv</td>\n",
       "      <td>debit</td>\n",
       "      <td>mastercard</td>\n",
       "      <td>BANCO BMG S/A</td>\n",
       "    </tr>\n",
       "    <tr>\n",
       "      <th>9810815</th>\n",
       "      <td>3</td>\n",
       "      <td>23-05-11 22:44</td>\n",
       "      <td>approved</td>\n",
       "      <td>contactless</td>\n",
       "      <td>debit</td>\n",
       "      <td>visa</td>\n",
       "      <td>Banco Cooperativo Sicredi S.A.</td>\n",
       "    </tr>\n",
       "  </tbody>\n",
       "</table>\n",
       "<p>9810816 rows × 7 columns</p>\n",
       "</div>"
      ],
      "text/plain": [
       "         COUNT      created_at    status capture_method payment_method  \\\n",
       "0            6  23-06-30 20:04  approved    contactless         credit   \n",
       "1            1  23-06-30 20:04  approved    contactless         credit   \n",
       "2            3  23-06-30 20:04  approved    contactless         credit   \n",
       "3            2  23-06-30 20:04    denied            emv         credit   \n",
       "4            1  23-06-30 20:04    denied    contactless          debit   \n",
       "...        ...             ...       ...            ...            ...   \n",
       "9810811      1  23-05-11 22:44    denied            emv         credit   \n",
       "9810812      1  23-05-11 22:44  approved           mpos         credit   \n",
       "9810813      1  23-05-11 22:44  approved    contactless         credit   \n",
       "9810814      1  23-05-11 22:44  approved            emv          debit   \n",
       "9810815      3  23-05-11 22:44  approved    contactless          debit   \n",
       "\n",
       "         card_brand                                         legal_name  \n",
       "0              visa                      BANCO SANTANDER (BRASIL) S.A.  \n",
       "1              visa                      MERCADOPAGOCOM REPRESENTACOES  \n",
       "2        mastercard                                   BANCO INTER S.A.  \n",
       "3        mastercard                                        BANCO C6 SA  \n",
       "4              visa  Portoseg S.A. Credito Financiamento e Investim...  \n",
       "...             ...                                                ...  \n",
       "9810811  mastercard                                BANCO ITAUCARD S.A.  \n",
       "9810812  mastercard    FORTBRASIL ADMINISTRADORA DE CARTOES DE CREDITO  \n",
       "9810813        visa  LUIZACRED S.A. SOCIEDADE DE CREDITO, FINANCIAM...  \n",
       "9810814  mastercard                                      BANCO BMG S/A  \n",
       "9810815        visa                     Banco Cooperativo Sicredi S.A.  \n",
       "\n",
       "[9810816 rows x 7 columns]"
      ]
     },
     "execution_count": 3,
     "metadata": {},
     "output_type": "execute_result"
    }
   ],
   "source": [
    "df\n"
   ]
  },
  {
   "cell_type": "code",
   "execution_count": 4,
   "id": "325e640e",
   "metadata": {},
   "outputs": [],
   "source": [
    "def contar_valores(dataframe, nome_coluna):\n",
    "    return dataframe[nome_coluna].value_counts()"
   ]
  },
  {
   "cell_type": "code",
   "execution_count": 5,
   "id": "8c3aef22",
   "metadata": {
    "scrolled": true
   },
   "outputs": [
    {
     "data": {
      "text/plain": [
       "approved            7344032\n",
       "denied              2263803\n",
       "reversed             104770\n",
       "refunded              54713\n",
       "backend_reversed      38396\n",
       "failed                 5102\n",
       "Name: status, dtype: int64"
      ]
     },
     "execution_count": 5,
     "metadata": {},
     "output_type": "execute_result"
    }
   ],
   "source": [
    "contar_valores(df,'status')"
   ]
  },
  {
   "cell_type": "code",
   "execution_count": 6,
   "id": "16d2188f",
   "metadata": {},
   "outputs": [
    {
     "data": {
      "text/plain": [
       "emv                 4360126\n",
       "contactless         3883768\n",
       "mpos                 743246\n",
       "payment_link_web     706230\n",
       "payment_link          82722\n",
       "ecommerce             34724\n",
       "Name: capture_method, dtype: int64"
      ]
     },
     "execution_count": 6,
     "metadata": {},
     "output_type": "execute_result"
    }
   ],
   "source": [
    "contar_valores(df,'capture_method')"
   ]
  },
  {
   "cell_type": "code",
   "execution_count": 7,
   "id": "dba4ee41",
   "metadata": {},
   "outputs": [
    {
     "data": {
      "text/plain": [
       "credit    6110243\n",
       "debit     3700573\n",
       "Name: payment_method, dtype: int64"
      ]
     },
     "execution_count": 7,
     "metadata": {},
     "output_type": "execute_result"
    }
   ],
   "source": [
    "contar_valores(df,'payment_method')"
   ]
  },
  {
   "cell_type": "code",
   "execution_count": 8,
   "id": "a6bb8274",
   "metadata": {
    "scrolled": true
   },
   "outputs": [
    {
     "data": {
      "text/plain": [
       "mastercard    5037704\n",
       "visa          3827704\n",
       "elo            895716\n",
       "hipercard       49692\n",
       "Name: card_brand, dtype: int64"
      ]
     },
     "execution_count": 8,
     "metadata": {},
     "output_type": "execute_result"
    }
   ],
   "source": [
    "contar_valores(df,'card_brand')"
   ]
  },
  {
   "cell_type": "code",
   "execution_count": 9,
   "id": "3276b2c0",
   "metadata": {
    "scrolled": true
   },
   "outputs": [
    {
     "data": {
      "text/plain": [
       "Banco do Brasil SA                856181\n",
       "BANCO ITAUCARD S.A.               815777\n",
       "NU PAGAMENTOS SA                  774231\n",
       "Caixa Economica Federal           702377\n",
       "BANCO SANTANDER (BRASIL) S.A.     702003\n",
       "                                   ...  \n",
       "BANCO POPULAR S.A.                     1\n",
       "METRO CU FEDERAL CREDIT UNION          1\n",
       "TRAVIS CREDIT UNION                    1\n",
       "CENTRAL PACIFIC BANK                   1\n",
       "BANCO BICA SOCIEDAD ANONIMA            1\n",
       "Name: legal_name, Length: 1655, dtype: int64"
      ]
     },
     "execution_count": 9,
     "metadata": {},
     "output_type": "execute_result"
    }
   ],
   "source": [
    "\n",
    "contar_valores(df,'legal_name')"
   ]
  },
  {
   "cell_type": "raw",
   "id": "b5992ff8",
   "metadata": {},
   "source": [
    "filtro = (df['created_at'] == '23-06-30 20:04') & (df['legal_name'] == 'BANCO SANTANDER (BRASIL) S.A.)\n",
    "resultados = df[filtro]\n"
   ]
  },
  {
   "cell_type": "markdown",
   "id": "dcacf8df",
   "metadata": {},
   "source": [
    "### Criacão do Filtro\n",
    "Filtro criado para descobrir como o Count funcionava, no caso sendo o numero de transacoes que acontecem por banco, por status, por método de captura, tipo de pagamento e por qual bandeira no mesmo dia e horario"
   ]
  },
  {
   "cell_type": "code",
   "execution_count": 17,
   "id": "73031a88",
   "metadata": {
    "scrolled": true
   },
   "outputs": [
    {
     "data": {
      "text/html": [
       "<div>\n",
       "<style scoped>\n",
       "    .dataframe tbody tr th:only-of-type {\n",
       "        vertical-align: middle;\n",
       "    }\n",
       "\n",
       "    .dataframe tbody tr th {\n",
       "        vertical-align: top;\n",
       "    }\n",
       "\n",
       "    .dataframe thead th {\n",
       "        text-align: right;\n",
       "    }\n",
       "</style>\n",
       "<table border=\"1\" class=\"dataframe\">\n",
       "  <thead>\n",
       "    <tr style=\"text-align: right;\">\n",
       "      <th></th>\n",
       "      <th>COUNT</th>\n",
       "      <th>created_at</th>\n",
       "      <th>status</th>\n",
       "      <th>capture_method</th>\n",
       "      <th>payment_method</th>\n",
       "      <th>card_brand</th>\n",
       "      <th>legal_name</th>\n",
       "    </tr>\n",
       "  </thead>\n",
       "  <tbody>\n",
       "    <tr>\n",
       "      <th>0</th>\n",
       "      <td>6</td>\n",
       "      <td>23-06-30 20:04</td>\n",
       "      <td>approved</td>\n",
       "      <td>contactless</td>\n",
       "      <td>credit</td>\n",
       "      <td>visa</td>\n",
       "      <td>BANCO SANTANDER (BRASIL) S.A.</td>\n",
       "    </tr>\n",
       "    <tr>\n",
       "      <th>21</th>\n",
       "      <td>5</td>\n",
       "      <td>23-06-30 20:04</td>\n",
       "      <td>approved</td>\n",
       "      <td>emv</td>\n",
       "      <td>debit</td>\n",
       "      <td>mastercard</td>\n",
       "      <td>BANCO SANTANDER (BRASIL) S.A.</td>\n",
       "    </tr>\n",
       "    <tr>\n",
       "      <th>26</th>\n",
       "      <td>1</td>\n",
       "      <td>23-06-30 20:04</td>\n",
       "      <td>denied</td>\n",
       "      <td>payment_link_web</td>\n",
       "      <td>credit</td>\n",
       "      <td>mastercard</td>\n",
       "      <td>BANCO SANTANDER (BRASIL) S.A.</td>\n",
       "    </tr>\n",
       "    <tr>\n",
       "      <th>30</th>\n",
       "      <td>1</td>\n",
       "      <td>23-06-30 20:04</td>\n",
       "      <td>approved</td>\n",
       "      <td>mpos</td>\n",
       "      <td>credit</td>\n",
       "      <td>visa</td>\n",
       "      <td>BANCO SANTANDER (BRASIL) S.A.</td>\n",
       "    </tr>\n",
       "    <tr>\n",
       "      <th>36</th>\n",
       "      <td>1</td>\n",
       "      <td>23-06-30 20:04</td>\n",
       "      <td>approved</td>\n",
       "      <td>payment_link_web</td>\n",
       "      <td>credit</td>\n",
       "      <td>visa</td>\n",
       "      <td>BANCO SANTANDER (BRASIL) S.A.</td>\n",
       "    </tr>\n",
       "    <tr>\n",
       "      <th>43</th>\n",
       "      <td>1</td>\n",
       "      <td>23-06-30 20:04</td>\n",
       "      <td>denied</td>\n",
       "      <td>payment_link_web</td>\n",
       "      <td>credit</td>\n",
       "      <td>visa</td>\n",
       "      <td>BANCO SANTANDER (BRASIL) S.A.</td>\n",
       "    </tr>\n",
       "    <tr>\n",
       "      <th>81</th>\n",
       "      <td>10</td>\n",
       "      <td>23-06-30 20:04</td>\n",
       "      <td>approved</td>\n",
       "      <td>contactless</td>\n",
       "      <td>credit</td>\n",
       "      <td>mastercard</td>\n",
       "      <td>BANCO SANTANDER (BRASIL) S.A.</td>\n",
       "    </tr>\n",
       "    <tr>\n",
       "      <th>89</th>\n",
       "      <td>1</td>\n",
       "      <td>23-06-30 20:04</td>\n",
       "      <td>denied</td>\n",
       "      <td>contactless</td>\n",
       "      <td>debit</td>\n",
       "      <td>mastercard</td>\n",
       "      <td>BANCO SANTANDER (BRASIL) S.A.</td>\n",
       "    </tr>\n",
       "    <tr>\n",
       "      <th>98</th>\n",
       "      <td>9</td>\n",
       "      <td>23-06-30 20:04</td>\n",
       "      <td>approved</td>\n",
       "      <td>emv</td>\n",
       "      <td>credit</td>\n",
       "      <td>mastercard</td>\n",
       "      <td>BANCO SANTANDER (BRASIL) S.A.</td>\n",
       "    </tr>\n",
       "    <tr>\n",
       "      <th>118</th>\n",
       "      <td>9</td>\n",
       "      <td>23-06-30 20:04</td>\n",
       "      <td>approved</td>\n",
       "      <td>contactless</td>\n",
       "      <td>debit</td>\n",
       "      <td>visa</td>\n",
       "      <td>BANCO SANTANDER (BRASIL) S.A.</td>\n",
       "    </tr>\n",
       "    <tr>\n",
       "      <th>125</th>\n",
       "      <td>2</td>\n",
       "      <td>23-06-30 20:04</td>\n",
       "      <td>approved</td>\n",
       "      <td>emv</td>\n",
       "      <td>credit</td>\n",
       "      <td>visa</td>\n",
       "      <td>BANCO SANTANDER (BRASIL) S.A.</td>\n",
       "    </tr>\n",
       "    <tr>\n",
       "      <th>139</th>\n",
       "      <td>7</td>\n",
       "      <td>23-06-30 20:04</td>\n",
       "      <td>approved</td>\n",
       "      <td>contactless</td>\n",
       "      <td>debit</td>\n",
       "      <td>mastercard</td>\n",
       "      <td>BANCO SANTANDER (BRASIL) S.A.</td>\n",
       "    </tr>\n",
       "    <tr>\n",
       "      <th>149</th>\n",
       "      <td>1</td>\n",
       "      <td>23-06-30 20:04</td>\n",
       "      <td>denied</td>\n",
       "      <td>emv</td>\n",
       "      <td>credit</td>\n",
       "      <td>mastercard</td>\n",
       "      <td>BANCO SANTANDER (BRASIL) S.A.</td>\n",
       "    </tr>\n",
       "    <tr>\n",
       "      <th>151</th>\n",
       "      <td>5</td>\n",
       "      <td>23-06-30 20:04</td>\n",
       "      <td>approved</td>\n",
       "      <td>emv</td>\n",
       "      <td>debit</td>\n",
       "      <td>visa</td>\n",
       "      <td>BANCO SANTANDER (BRASIL) S.A.</td>\n",
       "    </tr>\n",
       "  </tbody>\n",
       "</table>\n",
       "</div>"
      ],
      "text/plain": [
       "     COUNT      created_at    status    capture_method payment_method  \\\n",
       "0        6  23-06-30 20:04  approved       contactless         credit   \n",
       "21       5  23-06-30 20:04  approved               emv          debit   \n",
       "26       1  23-06-30 20:04    denied  payment_link_web         credit   \n",
       "30       1  23-06-30 20:04  approved              mpos         credit   \n",
       "36       1  23-06-30 20:04  approved  payment_link_web         credit   \n",
       "43       1  23-06-30 20:04    denied  payment_link_web         credit   \n",
       "81      10  23-06-30 20:04  approved       contactless         credit   \n",
       "89       1  23-06-30 20:04    denied       contactless          debit   \n",
       "98       9  23-06-30 20:04  approved               emv         credit   \n",
       "118      9  23-06-30 20:04  approved       contactless          debit   \n",
       "125      2  23-06-30 20:04  approved               emv         credit   \n",
       "139      7  23-06-30 20:04  approved       contactless          debit   \n",
       "149      1  23-06-30 20:04    denied               emv         credit   \n",
       "151      5  23-06-30 20:04  approved               emv          debit   \n",
       "\n",
       "     card_brand                     legal_name  \n",
       "0          visa  BANCO SANTANDER (BRASIL) S.A.  \n",
       "21   mastercard  BANCO SANTANDER (BRASIL) S.A.  \n",
       "26   mastercard  BANCO SANTANDER (BRASIL) S.A.  \n",
       "30         visa  BANCO SANTANDER (BRASIL) S.A.  \n",
       "36         visa  BANCO SANTANDER (BRASIL) S.A.  \n",
       "43         visa  BANCO SANTANDER (BRASIL) S.A.  \n",
       "81   mastercard  BANCO SANTANDER (BRASIL) S.A.  \n",
       "89   mastercard  BANCO SANTANDER (BRASIL) S.A.  \n",
       "98   mastercard  BANCO SANTANDER (BRASIL) S.A.  \n",
       "118        visa  BANCO SANTANDER (BRASIL) S.A.  \n",
       "125        visa  BANCO SANTANDER (BRASIL) S.A.  \n",
       "139  mastercard  BANCO SANTANDER (BRASIL) S.A.  \n",
       "149  mastercard  BANCO SANTANDER (BRASIL) S.A.  \n",
       "151        visa  BANCO SANTANDER (BRASIL) S.A.  "
      ]
     },
     "execution_count": 17,
     "metadata": {},
     "output_type": "execute_result"
    }
   ],
   "source": [
    "resultados\n"
   ]
  }
 ],
 "metadata": {
  "kernelspec": {
   "display_name": "Python 3 (ipykernel)",
   "language": "python",
   "name": "python3"
  },
  "language_info": {
   "codemirror_mode": {
    "name": "ipython",
    "version": 3
   },
   "file_extension": ".py",
   "mimetype": "text/x-python",
   "name": "python",
   "nbconvert_exporter": "python",
   "pygments_lexer": "ipython3",
   "version": "3.9.13"
  }
 },
 "nbformat": 4,
 "nbformat_minor": 5
}
